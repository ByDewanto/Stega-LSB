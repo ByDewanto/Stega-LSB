{
 "cells": [
  {
   "cell_type": "code",
   "execution_count": 2,
   "metadata": {},
   "outputs": [],
   "source": [
    "# Library that used on this program\n",
    "from PIL import Image\n",
    "from docx import Document\n",
    "\n",
    "# Code from RGB to Binary\n",
    "def rgb_to_binary(rgb):\n",
    "    return ''.join(format(value, '08b') for value in rgb)\n",
    "\n",
    "def extracting_image_rgb(img_path):\n",
    "    image = Image.open(img_path)\n",
    "\n",
    "    pixel_values = list(image.getdata())\n",
    "\n",
    "    binary_pixel_values = [rgb_to_binary(rgb) for rgb in pixel_values]\n",
    "\n",
    "    image.close()\n",
    "    bit = []\n",
    "    k = \"\"\n",
    "    i = 0\n",
    "\n",
    "    for three_binary in binary_pixel_values:\n",
    "        for binary in three_binary:\n",
    "            i+=1\n",
    "            k+=binary\n",
    "            if i == 8 or i == 16 or i == 24:\n",
    "                bit.append(k)\n",
    "                k = \"\"\n",
    "                i = 0\n",
    "    return bit\n",
    "\n",
    "def get_png_resolution(image_path):\n",
    "    try:\n",
    "        with Image.open(image_path) as img:\n",
    "            width, height = img.size\n",
    "            return width, height\n",
    "    except Exception as e:\n",
    "        print(f\"Error: {e}\")\n",
    "        return None\n",
    "\n",
    "png_file_path = 'D:/steganografi/test.png'\n",
    "png_binary = extracting_image_rgb(png_file_path)\n",
    "resolution = get_png_resolution(png_file_path)\n",
    "\n",
    "length = len(png_binary)\n",
    "\n",
    "# Code from Word to Binary\n",
    "def read_docx(file_path):\n",
    "    doc = Document(file_path)\n",
    "    \n",
    "    # Initialize an empty string to store the text\n",
    "    text_content = \"\"\n",
    "\n",
    "    # Iterate through paragraphs and add text to the string\n",
    "    for paragraph in doc.paragraphs:\n",
    "        text_content += paragraph.text + \"\\n\"\n",
    "\n",
    "    return text_content\n",
    "\n",
    "def text_to_binary(text):\n",
    "    binary_data = ''.join(format(ord(char), '08b') for char in text)\n",
    "    return binary_data\n",
    "\n",
    "word_file_path = 'D:/steganografi/example.docx'\n",
    "word_text = read_docx(word_file_path)\n",
    "word_binary = text_to_binary(word_text)"
   ]
  },
  {
   "cell_type": "code",
   "execution_count": 3,
   "metadata": {},
   "outputs": [],
   "source": [
    "dum_list = []\n",
    "for i in word_binary:\n",
    "    dum_list.append(i)\n",
    "word_binary = dum_list"
   ]
  },
  {
   "cell_type": "code",
   "execution_count": 4,
   "metadata": {},
   "outputs": [
    {
     "name": "stdout",
     "output_type": "stream",
     "text": [
      "1600\n",
      "11001000000\n"
     ]
    }
   ],
   "source": [
    "print(len(word_binary))\n",
    "dum_list = []\n",
    "decimal_number = len(word_binary)\n",
    "binary_string = bin(decimal_number)[2:]\n",
    "print(binary_string)"
   ]
  },
  {
   "cell_type": "code",
   "execution_count": 5,
   "metadata": {},
   "outputs": [],
   "source": [
    "dum_list = []\n",
    "j = 0\n",
    "for i in range(0, 32):\n",
    "    if i < (32-len(binary_string)):\n",
    "        dum_list.append('0')\n",
    "        continue\n",
    "    dum_list.append(binary_string[j])\n",
    "    j = j + 1\n",
    "count_word = dum_list"
   ]
  },
  {
   "cell_type": "code",
   "execution_count": 6,
   "metadata": {},
   "outputs": [
    {
     "name": "stdout",
     "output_type": "stream",
     "text": [
      "<class 'list'>\n",
      "<class 'str'>\n",
      "<class 'list'>\n",
      "<class 'str'>\n",
      "<class 'list'>\n",
      "<class 'str'>\n"
     ]
    }
   ],
   "source": [
    "print(type(word_binary))\n",
    "print(type(word_binary[8]))\n",
    "print(type(png_binary))\n",
    "print(type(png_binary[8]))\n",
    "print(type(count_word))\n",
    "print(type(count_word[8]))"
   ]
  },
  {
   "cell_type": "code",
   "execution_count": 7,
   "metadata": {},
   "outputs": [],
   "source": [
    "word_binary = count_word + word_binary"
   ]
  },
  {
   "cell_type": "code",
   "execution_count": 8,
   "metadata": {},
   "outputs": [
    {
     "name": "stdout",
     "output_type": "stream",
     "text": [
      "<class 'str'>\n",
      "<class 'str'>\n"
     ]
    }
   ],
   "source": [
    "print(type(word_binary[9]))\n",
    "print(type(word_binary[99]))"
   ]
  },
  {
   "cell_type": "code",
   "execution_count": 9,
   "metadata": {},
   "outputs": [],
   "source": [
    "# Code to slip every binary text to LSB PNG\n",
    "new_png_binary = []\n",
    "length_png = len(png_binary)\n",
    "length_word = len(word_binary)\n",
    "for i in range(length_word):\n",
    "    str_png_binary = png_binary[i]\n",
    "    new_binary = str_png_binary[:-1] + word_binary[i]\n",
    "    new_png_binary.append(new_binary)\n",
    "\n",
    "for i in range(length_word, length_png):\n",
    "    new_png_binary.append(png_binary[i])\n",
    "\n",
    "#  Code for construct binary png to png\n",
    "def create_image_from_pixel_data(pixel_data, width, height):\n",
    "    # Create a new image with the specified width and height\n",
    "    image = Image.new('RGB', (width, height))\n",
    "\n",
    "    # Create a pixel access object\n",
    "    pixels = image.load()\n",
    "\n",
    "    # Set pixel values from the pixel data\n",
    "    for y in range(height):\n",
    "        for x in range(width):\n",
    "            pixel_index = y * width * 3 + x * 3\n",
    "            pixels[x, y] = (pixel_data[pixel_index], pixel_data[pixel_index + 1], pixel_data[pixel_index + 2])\n",
    "\n",
    "    return image\n",
    "\n",
    "rgb_values = []\n",
    "dum_list = []\n",
    "\n",
    "for i in range(0, len(new_png_binary), 3):\n",
    "    dum_list = []\n",
    "    for j in range(3):\n",
    "        dum_list.append(int(new_png_binary[i+j],2))\n",
    "    rgb_values.append(dum_list)\n",
    "\n",
    "pixel_data = [value for rgb_list in rgb_values for value in rgb_list]\n",
    "\n",
    "image = create_image_from_pixel_data(pixel_data, resolution[0], resolution[1])\n",
    "image.save('output_image.png')"
   ]
  },
  {
   "cell_type": "code",
   "execution_count": null,
   "metadata": {},
   "outputs": [],
   "source": [
    "for i in range(90):\n",
    "    print(rgb_values[i])"
   ]
  },
  {
   "cell_type": "code",
   "execution_count": 14,
   "metadata": {},
   "outputs": [],
   "source": [
    "# Library that used on this program\n",
    "from PIL import Image\n",
    "from docx import Document\n",
    "\n",
    "# Code from PNG to Binary\n",
    "def rgb_to_binary(rgb):\n",
    "    return ''.join(format(value, '08b') for value in rgb)\n",
    "\n",
    "def extracting_image_rgb(img_path):\n",
    "    image = Image.open(img_path)\n",
    "\n",
    "    pixel_values = list(image.getdata())\n",
    "\n",
    "    binary_pixel_values = [rgb_to_binary(rgb) for rgb in pixel_values]\n",
    "\n",
    "    image.close()\n",
    "    bit = []\n",
    "    k = \"\"\n",
    "    i = 0\n",
    "\n",
    "    for three_binary in binary_pixel_values:\n",
    "        for binary in three_binary:\n",
    "            i+=1\n",
    "            k+=binary\n",
    "            if i == 8 or i == 16 or i == 24:\n",
    "                bit.append(k)\n",
    "                k = \"\"\n",
    "                i = 0\n",
    "    return bit\n",
    "\n",
    "png_file_path = 'D:/steganografi/005/output_image.png'\n",
    "png_binary = extracting_image_rgb(png_file_path)"
   ]
  },
  {
   "cell_type": "code",
   "execution_count": 17,
   "metadata": {},
   "outputs": [
    {
     "name": "stdout",
     "output_type": "stream",
     "text": [
      "<class 'list'>\n",
      "<class 'str'>\n",
      "<class 'str'>\n"
     ]
    }
   ],
   "source": [
    "print(type(png_binary))\n",
    "print(type(png_binary[9]))\n",
    "print(type(png_binary[90]))"
   ]
  },
  {
   "cell_type": "code",
   "execution_count": 27,
   "metadata": {},
   "outputs": [
    {
     "name": "stdout",
     "output_type": "stream",
     "text": [
      "00000000000000000000011001000000\n"
     ]
    }
   ],
   "source": [
    "count_binary = \"\"\n",
    "for i in range(0, 32):\n",
    "    str_png_binary = png_binary[i]\n",
    "    count_binary+=(str_png_binary[-1])\n",
    "print(count_binary)"
   ]
  },
  {
   "cell_type": "code",
   "execution_count": 30,
   "metadata": {},
   "outputs": [
    {
     "name": "stdout",
     "output_type": "stream",
     "text": [
      "1600\n"
     ]
    }
   ],
   "source": [
    "binary_string = count_binary\n",
    "count_decimal = int(binary_string, 2)\n",
    "\n",
    "print(count_decimal)\n"
   ]
  },
  {
   "cell_type": "code",
   "execution_count": 33,
   "metadata": {},
   "outputs": [
    {
     "name": "stdout",
     "output_type": "stream",
     "text": [
      "If you have a different type of document, you might need to use a different library or approach. Please specify the document type if it's not a Word document, so I can provide more tailored guidance.\n",
      "\n"
     ]
    }
   ],
   "source": [
    "\n",
    "# Code to get every LSB and put it together\n",
    "word_binary = \"\"\n",
    "for i in range(32, count_decimal+32):\n",
    "    str_png_binary = png_binary[i]\n",
    "    word_binary+=(str_png_binary[-1])\n",
    "\n",
    "def binary_to_text(binary_string):\n",
    "    text = ''.join(chr(int(binary_string[i:i+8], 2)) for i in range(0, len(binary_string), 8))\n",
    "    return text\n",
    "\n",
    "# Example usage\n",
    "text_result = binary_to_text(word_binary)\n",
    "\n",
    "print(text_result)"
   ]
  },
  {
   "cell_type": "code",
   "execution_count": 32,
   "metadata": {},
   "outputs": [
    {
     "name": "stdout",
     "output_type": "stream",
     "text": [
      "Word document created successfully.\n"
     ]
    }
   ],
   "source": [
    "def write_text_to_word(text, output_path='output.docx'):\n",
    "    # Create a new Word document\n",
    "    doc = Document()\n",
    "\n",
    "    # Add the user-input text to the document\n",
    "    doc.add_paragraph(text)\n",
    "\n",
    "    # Save the document to the specified path\n",
    "    doc.save(output_path)\n",
    "\n",
    "if __name__ == \"__main__\":\n",
    "    write_text_to_word(text_result)\n",
    "    print(\"Word document created successfully.\")"
   ]
  }
 ],
 "metadata": {
  "kernelspec": {
   "display_name": "Python 3",
   "language": "python",
   "name": "python3"
  },
  "language_info": {
   "codemirror_mode": {
    "name": "ipython",
    "version": 3
   },
   "file_extension": ".py",
   "mimetype": "text/x-python",
   "name": "python",
   "nbconvert_exporter": "python",
   "pygments_lexer": "ipython3",
   "version": "3.11.4"
  }
 },
 "nbformat": 4,
 "nbformat_minor": 2
}
