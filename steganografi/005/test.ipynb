{
 "cells": [
  {
   "cell_type": "code",
   "execution_count": 2,
   "metadata": {},
   "outputs": [
    {
     "name": "stdout",
     "output_type": "stream",
     "text": [
      "[[0, 0, 0], [0, 0, 0]]\n"
     ]
    }
   ],
   "source": [
    "# Example: Create a list of lists using nested loops\n",
    "rows = 2\n",
    "cols = 3\n",
    "\n",
    "list_of_lists = []\n",
    "for i in range(rows):\n",
    "    inner_list = []\n",
    "    for j in range(cols):\n",
    "        inner_list.append(0)\n",
    "    list_of_lists.append(inner_list)\n",
    "\n",
    "# Example usage\n",
    "print(list_of_lists)"
   ]
  },
  {
   "cell_type": "code",
   "execution_count": 4,
   "metadata": {},
   "outputs": [],
   "source": [
    "from PIL import Image\n",
    "\n",
    "def get_image_dimensions(image_path):\n",
    "    try:\n",
    "        with Image.open(image_path) as img:\n",
    "            width, height = img.size\n",
    "            return width, height\n",
    "    except Exception as e:\n",
    "        print(f\"Error: {e}\")\n",
    "        return None\n",
    "\n",
    "# Example usage\n",
    "image_path = 'D:/steganografi/test.png'  # Replace with the path to your image\n",
    "dimensions = get_image_dimensions(image_path)\n",
    "\n",
    "if dimensions:\n",
    "    print(f\"Width: {dimensions[0]} pixels\")\n",
    "    print(f\"Height: {dimensions[1]} pixels\")\n"
   ]
  },
  {
   "cell_type": "code",
   "execution_count": 3,
   "metadata": {},
   "outputs": [
    {
     "name": "stdout",
     "output_type": "stream",
     "text": [
      "011010110110100101110100011101000110111100100000011000110110100001101001011010110110000101101011011000010111010001100101001000000110110101101111\n"
     ]
    }
   ],
   "source": [
    "def text_to_binary(text):\n",
    "    binary_data = ''.join(format(ord(char), '08b') for char in text)\n",
    "    return binary_data\n",
    "\n",
    "# Example usage\n",
    "input_text = 'kitto chikakate mo'\n",
    "binary_result = text_to_binary(input_text)\n",
    "\n",
    "print(binary_result)"
   ]
  },
  {
   "cell_type": "code",
   "execution_count": 4,
   "metadata": {},
   "outputs": [
    {
     "name": "stdout",
     "output_type": "stream",
     "text": [
      "kitto chikakate mo\n"
     ]
    }
   ],
   "source": [
    "def binary_to_text(binary_string):\n",
    "    text = ''.join(chr(int(binary_string[i:i+8], 2)) for i in range(0, len(binary_string), 8))\n",
    "    return text\n",
    "\n",
    "# Example usage\n",
    "text_result = binary_to_text(binary_result)\n",
    "\n",
    "print(text_result)"
   ]
  },
  {
   "cell_type": "code",
   "execution_count": 8,
   "metadata": {},
   "outputs": [
    {
     "name": "stdout",
     "output_type": "stream",
     "text": [
      "Using negative indexing: !\n",
      "Using [-1] notation: !\n"
     ]
    }
   ],
   "source": [
    "my_string = \"Hello, World!\"\n",
    "\n",
    "# Using negative indexing\n",
    "last_character_1 = my_string[-1]\n",
    "\n",
    "# Using the [-1] notation\n",
    "last_character_2 = my_string[-1]\n",
    "\n",
    "print(\"Using negative indexing:\", last_character_1)\n",
    "print(\"Using [-1] notation:\", last_character_2)\n"
   ]
  },
  {
   "cell_type": "code",
   "execution_count": 9,
   "metadata": {},
   "outputs": [
    {
     "name": "stdout",
     "output_type": "stream",
     "text": [
      "Using + operator: Hello, World!\n",
      "Using += operator: Hello, World!\n"
     ]
    }
   ],
   "source": [
    "string1 = \"Hello\"\n",
    "string2 = \", World!\"\n",
    "\n",
    "# Using the + operator\n",
    "result1 = string1 + string2\n",
    "\n",
    "# Using the += operator (in-place addition)\n",
    "result2 = string1\n",
    "result2 += string2\n",
    "\n",
    "print(\"Using + operator:\", result1)\n",
    "print(\"Using += operator:\", result2)\n"
   ]
  }
 ],
 "metadata": {
  "kernelspec": {
   "display_name": "Python 3",
   "language": "python",
   "name": "python3"
  },
  "language_info": {
   "codemirror_mode": {
    "name": "ipython",
    "version": 3
   },
   "file_extension": ".py",
   "mimetype": "text/x-python",
   "name": "python",
   "nbconvert_exporter": "python",
   "pygments_lexer": "ipython3",
   "version": "3.11.4"
  }
 },
 "nbformat": 4,
 "nbformat_minor": 2
}
