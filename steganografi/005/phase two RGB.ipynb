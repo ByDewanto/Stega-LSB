{
 "cells": [
  {
   "cell_type": "code",
   "execution_count": 8,
   "metadata": {},
   "outputs": [],
   "source": [
    "# Library that used on this program\n",
    "from PIL import Image\n",
    "from docx import Document\n",
    "\n",
    "# list, tupple or some variable to save the value"
   ]
  },
  {
   "cell_type": "markdown",
   "metadata": {},
   "source": [
    "# Code from PNG to Binary"
   ]
  },
  {
   "cell_type": "code",
   "execution_count": 9,
   "metadata": {},
   "outputs": [],
   "source": [
    "def rgb_to_binary(rgb):\n",
    "    return ''.join(format(value, '08b') for value in rgb)\n",
    "\n",
    "def extracting_image_rgb(img_path):\n",
    "    image = Image.open(img_path)\n",
    "\n",
    "    pixel_values = list(image.getdata())\n",
    "\n",
    "    binary_pixel_values = [rgb_to_binary(rgb) for rgb in pixel_values]\n",
    "\n",
    "    image.close()\n",
    "    bit = []\n",
    "    k = \"\"\n",
    "    i = 0\n",
    "\n",
    "    for three_binary in binary_pixel_values:\n",
    "        for binary in three_binary:\n",
    "            i+=1\n",
    "            k+=binary\n",
    "            if i == 8 or i == 16 or i == 24:\n",
    "                bit.append(k)\n",
    "                k = \"\"\n",
    "                i = 0\n",
    "    return bit"
   ]
  },
  {
   "cell_type": "markdown",
   "metadata": {},
   "source": [
    "## Executing this phase"
   ]
  },
  {
   "cell_type": "code",
   "execution_count": 10,
   "metadata": {},
   "outputs": [
    {
     "name": "stdout",
     "output_type": "stream",
     "text": [
      "00111110\n",
      "01001001\n",
      "11001100\n",
      "00111110\n",
      "01001001\n",
      "11001100\n",
      "00111110\n",
      "01001001\n",
      "11001100\n",
      "00111111\n"
     ]
    }
   ],
   "source": [
    "png_file_path = 'D:/steganografi/004/output_image.png'\n",
    "png_binary = extracting_image_rgb(png_file_path)\n",
    "\n",
    "for i in range(10):\n",
    "    print(png_binary[i])"
   ]
  },
  {
   "cell_type": "markdown",
   "metadata": {},
   "source": [
    "# Code to get every LSB and put it together"
   ]
  },
  {
   "cell_type": "code",
   "execution_count": 11,
   "metadata": {},
   "outputs": [
    {
     "name": "stdout",
     "output_type": "stream",
     "text": [
      "480000\n",
      "<class 'list'>\n",
      "<class 'str'>\n",
      "00111110\n"
     ]
    }
   ],
   "source": [
    "# test\n",
    "length_png = len(png_binary)\n",
    "print(length_png)\n",
    "print(type(png_binary))\n",
    "print(type(png_binary[3]))\n",
    "print(png_binary[3])"
   ]
  },
  {
   "cell_type": "code",
   "execution_count": 12,
   "metadata": {},
   "outputs": [
    {
     "name": "stdout",
     "output_type": "stream",
     "text": [
      "0100100101100110001000000111100101101111011101010010000001101000011000010111011001100101001000000110000100100000011001000110100101100110011001100110010101110010011001010110111001110100001000000111010001111001011100000110010100100000011011110110011000100000011001000110111101100011011101010110110101100101011011100111010000101100001000000111100101101111011101010010000001101101011010010110011101101000011101000010000001101110011001010110010101100100001000000111010001101111001000000111010101110011011001010010000001100001001000000110010001101001011001100110011001100101011100100110010101101110011101000010000001101100011010010110001001110010011000010111001001111001001000000110111101110010001000000110000101110000011100000111001001101111011000010110001101101000001011100010000001010000011011000110010101100001011100110110010100100000011100110111000001100101011000110110100101100110011110010010000001110100011010000110010100100000011001000110111101100011011101010110110101100101011011100111010000100000011101000111100101110000011001010010000001101001011001100010000001101001011101000010011101110011001000000110111001101111011101000010000001100001001000000101011101101111011100100110010000100000011001000110111101100011011101010110110101100101011011100111010000101100001000000111001101101111001000000100100100100000011000110110000101101110001000000111000001110010011011110111011001101001011001000110010100100000011011010110111101110010011001010010000001110100011000010110100101101100011011110111001001100101011001000010000001100111011101010110100101100100011000010110111001100011011001010010111000001010\n"
     ]
    }
   ],
   "source": [
    "word_binary = \"\"\n",
    "for i in range(0, 1600):\n",
    "    str_png_binary = png_binary[i]\n",
    "    word_binary+=(str_png_binary[-1])\n",
    "\n",
    "print(word_binary)"
   ]
  },
  {
   "cell_type": "code",
   "execution_count": 13,
   "metadata": {},
   "outputs": [
    {
     "name": "stdout",
     "output_type": "stream",
     "text": [
      "If you have a different type of document, you might need to use a different library or approach. Please specify the document type if it's not a Word document, so I can provide more tailored guidance.\n",
      "\n"
     ]
    }
   ],
   "source": [
    "def binary_to_text(binary_string):\n",
    "    text = ''.join(chr(int(binary_string[i:i+8], 2)) for i in range(0, len(binary_string), 8))\n",
    "    return text\n",
    "\n",
    "# Example usage\n",
    "text_result = binary_to_text(word_binary)\n",
    "\n",
    "print(text_result)"
   ]
  },
  {
   "cell_type": "code",
   "execution_count": 14,
   "metadata": {},
   "outputs": [
    {
     "name": "stdout",
     "output_type": "stream",
     "text": [
      "Word document created successfully.\n"
     ]
    }
   ],
   "source": [
    "from docx import Document\n",
    "\n",
    "def write_text_to_word(text, output_path='output.docx'):\n",
    "    # Create a new Word document\n",
    "    doc = Document()\n",
    "\n",
    "    # Add the user-input text to the document\n",
    "    doc.add_paragraph(text)\n",
    "\n",
    "    # Save the document to the specified path\n",
    "    doc.save(output_path)\n",
    "\n",
    "if __name__ == \"__main__\":\n",
    "    write_text_to_word(text_result)\n",
    "    print(\"Word document created successfully.\")"
   ]
  }
 ],
 "metadata": {
  "kernelspec": {
   "display_name": "Python 3",
   "language": "python",
   "name": "python3"
  },
  "language_info": {
   "codemirror_mode": {
    "name": "ipython",
    "version": 3
   },
   "file_extension": ".py",
   "mimetype": "text/x-python",
   "name": "python",
   "nbconvert_exporter": "python",
   "pygments_lexer": "ipython3",
   "version": "3.11.4"
  }
 },
 "nbformat": 4,
 "nbformat_minor": 2
}
