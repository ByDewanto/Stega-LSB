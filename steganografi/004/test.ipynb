{
 "cells": [
  {
   "cell_type": "code",
   "execution_count": 2,
   "metadata": {},
   "outputs": [
    {
     "name": "stdout",
     "output_type": "stream",
     "text": [
      "[[0, 0, 0], [0, 0, 0]]\n"
     ]
    }
   ],
   "source": [
    "# Example: Create a list of lists using nested loops\n",
    "rows = 2\n",
    "cols = 3\n",
    "\n",
    "list_of_lists = []\n",
    "for i in range(rows):\n",
    "    inner_list = []\n",
    "    for j in range(cols):\n",
    "        inner_list.append(0)\n",
    "    list_of_lists.append(inner_list)\n",
    "\n",
    "# Example usage\n",
    "print(list_of_lists)"
   ]
  },
  {
   "cell_type": "code",
   "execution_count": 4,
   "metadata": {},
   "outputs": [],
   "source": [
    "from PIL import Image\n",
    "\n",
    "def get_image_dimensions(image_path):\n",
    "    try:\n",
    "        with Image.open(image_path) as img:\n",
    "            width, height = img.size\n",
    "            return width, height\n",
    "    except Exception as e:\n",
    "        print(f\"Error: {e}\")\n",
    "        return None\n",
    "\n",
    "# Example usage\n",
    "image_path = 'D:/steganografi/test.png'  # Replace with the path to your image\n",
    "dimensions = get_image_dimensions(image_path)\n",
    "\n",
    "if dimensions:\n",
    "    print(f\"Width: {dimensions[0]} pixels\")\n",
    "    print(f\"Height: {dimensions[1]} pixels\")\n"
   ]
  }
 ],
 "metadata": {
  "kernelspec": {
   "display_name": "Python 3",
   "language": "python",
   "name": "python3"
  },
  "language_info": {
   "codemirror_mode": {
    "name": "ipython",
    "version": 3
   },
   "file_extension": ".py",
   "mimetype": "text/x-python",
   "name": "python",
   "nbconvert_exporter": "python",
   "pygments_lexer": "ipython3",
   "version": "3.11.4"
  }
 },
 "nbformat": 4,
 "nbformat_minor": 2
}
