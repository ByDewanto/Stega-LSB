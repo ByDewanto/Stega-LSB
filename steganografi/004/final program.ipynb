{
 "cells": [
  {
   "cell_type": "code",
   "execution_count": 5,
   "metadata": {},
   "outputs": [],
   "source": [
    "# Library that used on this program\n",
    "from PIL import Image\n",
    "from docx import Document\n",
    "\n",
    "# list, tupple or some variable to save the value"
   ]
  },
  {
   "cell_type": "markdown",
   "metadata": {},
   "source": [
    "# Code from PNG to Binary"
   ]
  },
  {
   "cell_type": "code",
   "execution_count": 2,
   "metadata": {},
   "outputs": [],
   "source": [
    "def rgb_to_binary(rgb):\n",
    "    return ''.join(format(value, '08b') for value in rgb)\n",
    "\n",
    "def extracting_image_rgb(img_path):\n",
    "    image = Image.open(img_path)\n",
    "\n",
    "    pixel_values = list(image.getdata())\n",
    "\n",
    "    binary_pixel_values = [rgb_to_binary(rgb) for rgb in pixel_values]\n",
    "\n",
    "    image.close()\n",
    "    bit = []\n",
    "    k = \"\"\n",
    "    i = 0\n",
    "\n",
    "    for three_binary in binary_pixel_values:\n",
    "        for binary in three_binary:\n",
    "            i+=1\n",
    "            k+=binary\n",
    "            if i == 8 or i == 16 or i == 24:\n",
    "                bit.append(k)\n",
    "                k = \"\"\n",
    "                i = 0\n",
    "    return bit"
   ]
  },
  {
   "cell_type": "markdown",
   "metadata": {},
   "source": [
    "## Executing this phase"
   ]
  },
  {
   "cell_type": "code",
   "execution_count": 3,
   "metadata": {},
   "outputs": [
    {
     "name": "stdout",
     "output_type": "stream",
     "text": [
      "480000\n",
      "00111111\n",
      "01001000\n",
      "11001100\n",
      "00111111\n",
      "01001000\n",
      "11001100\n",
      "00111111\n",
      "01001000\n",
      "11001100\n",
      "00111111\n"
     ]
    }
   ],
   "source": [
    "png_file_path = 'D:/steganografi/test.png'\n",
    "png_binary = extracting_image_rgb(png_file_path)\n",
    "\n",
    "length = len(png_binary)\n",
    "print(length)\n",
    "for i in range(10):\n",
    "    print(png_binary[i])"
   ]
  },
  {
   "cell_type": "markdown",
   "metadata": {},
   "source": [
    "# Code from Word to Binary"
   ]
  },
  {
   "cell_type": "code",
   "execution_count": 6,
   "metadata": {},
   "outputs": [],
   "source": [
    "def read_docx(file_path):\n",
    "    doc = Document(file_path)\n",
    "    \n",
    "    # Initialize an empty string to store the text\n",
    "    text_content = \"\"\n",
    "\n",
    "    # Iterate through paragraphs and add text to the string\n",
    "    for paragraph in doc.paragraphs:\n",
    "        text_content += paragraph.text + \"\\n\"\n",
    "\n",
    "    return text_content\n",
    "\n",
    "def text_to_binary(text):\n",
    "    binary_data = ''.join(format(ord(char), '08b') for char in text)\n",
    "    return binary_data"
   ]
  },
  {
   "cell_type": "code",
   "execution_count": 7,
   "metadata": {},
   "outputs": [
    {
     "name": "stdout",
     "output_type": "stream",
     "text": [
      "1600\n",
      "0\n",
      "1\n",
      "0\n",
      "0\n",
      "1\n",
      "0\n",
      "0\n",
      "1\n",
      "0\n",
      "1\n"
     ]
    }
   ],
   "source": [
    "word_file_path = 'D:/steganografi/example.docx'\n",
    "word_text = read_docx(word_file_path)\n",
    "word_binary = text_to_binary(word_text)\n",
    "\n",
    "length = len(word_binary)\n",
    "print(length)\n",
    "for i in range(10):\n",
    "    print(word_binary[i])"
   ]
  },
  {
   "cell_type": "code",
   "execution_count": 6,
   "metadata": {},
   "outputs": [
    {
     "name": "stdout",
     "output_type": "stream",
     "text": [
      "<class 'str'>\n",
      "<class 'str'>\n"
     ]
    }
   ],
   "source": [
    "# cell for testing\n",
    "print(type(png_binary[1]))\n",
    "print(type(word_binary[1]))"
   ]
  },
  {
   "cell_type": "markdown",
   "metadata": {},
   "source": [
    "# Code to slip every binary text to binary png"
   ]
  },
  {
   "cell_type": "code",
   "execution_count": 8,
   "metadata": {},
   "outputs": [],
   "source": [
    "new_png_binary = []\n",
    "length_png = len(png_binary)\n",
    "length_word = len(word_binary)\n",
    "for i in range(length_word):\n",
    "    str_png_binary = png_binary[i]\n",
    "    new_binary = str_png_binary[:-1] + word_binary[i]\n",
    "    new_png_binary.append(new_binary)\n",
    "\n",
    "for i in range(length_word, length_png):\n",
    "    new_png_binary.append(png_binary[i])"
   ]
  },
  {
   "cell_type": "code",
   "execution_count": 9,
   "metadata": {},
   "outputs": [
    {
     "name": "stdout",
     "output_type": "stream",
     "text": [
      "00111110\n",
      "01001001\n",
      "11001100\n",
      "00111110\n",
      "01001001\n",
      "11001100\n",
      "00111110\n",
      "01001001\n",
      "11001100\n",
      "00111111\n",
      "480000\n",
      "<class 'str'>\n"
     ]
    }
   ],
   "source": [
    "# testing cell\n",
    "for i in range(10):\n",
    "    print(new_png_binary[i])\n",
    "\n",
    "print(len(new_png_binary))\n",
    "print(type(new_png_binary[i]))"
   ]
  },
  {
   "cell_type": "markdown",
   "metadata": {},
   "source": [
    "# Code for construct binary png to png"
   ]
  },
  {
   "cell_type": "code",
   "execution_count": 14,
   "metadata": {},
   "outputs": [],
   "source": [
    "# reconstruct it again to the png\n",
    "def rgb_to_pixel(rgb_values):\n",
    "    # Flatten the list of RGB lists into a one-dimensional list of pixel values\n",
    "    pixels = [value for rgb_list in rgb_values for value in rgb_list]\n",
    "    return pixels\n",
    "\n",
    "def create_image_from_pixel_data(pixel_data, width, height):\n",
    "    # Create a new image with the specified width and height\n",
    "    image = Image.new('RGB', (width, height))\n",
    "\n",
    "    # Create a pixel access object\n",
    "    pixels = image.load()\n",
    "\n",
    "    # Set pixel values from the pixel data\n",
    "    for y in range(height):\n",
    "        for x in range(width):\n",
    "            pixel_index = y * width * 3 + x * 3\n",
    "            pixels[x, y] = (pixel_data[pixel_index], pixel_data[pixel_index + 1], pixel_data[pixel_index + 2])\n",
    "\n",
    "    return image"
   ]
  },
  {
   "cell_type": "code",
   "execution_count": 15,
   "metadata": {},
   "outputs": [
    {
     "ename": "MemoryError",
     "evalue": "",
     "output_type": "error",
     "traceback": [
      "\u001b[1;31m---------------------------------------------------------------------------\u001b[0m",
      "\u001b[1;31mMemoryError\u001b[0m                               Traceback (most recent call last)",
      "Cell \u001b[1;32mIn[15], line 11\u001b[0m\n\u001b[0;32m      8\u001b[0m         dum_list\u001b[38;5;241m.\u001b[39mappend(new_png_binary[j])\n\u001b[0;32m      9\u001b[0m     rgb_values\u001b[38;5;241m.\u001b[39mappend(dum_list)\n\u001b[1;32m---> 11\u001b[0m pixel_data \u001b[38;5;241m=\u001b[39m \u001b[43mrgb_to_pixel\u001b[49m\u001b[43m(\u001b[49m\u001b[43mrgb_values\u001b[49m\u001b[43m)\u001b[49m\n\u001b[0;32m     13\u001b[0m image \u001b[38;5;241m=\u001b[39m create_image_from_pixel_data(pixel_data, \u001b[38;5;241m400\u001b[39m, \u001b[38;5;241m400\u001b[39m)\n\u001b[0;32m     14\u001b[0m image\u001b[38;5;241m.\u001b[39msave(\u001b[38;5;124m'\u001b[39m\u001b[38;5;124moutput_image.png\u001b[39m\u001b[38;5;124m'\u001b[39m)\n",
      "Cell \u001b[1;32mIn[14], line 4\u001b[0m, in \u001b[0;36mrgb_to_pixel\u001b[1;34m(rgb_values)\u001b[0m\n\u001b[0;32m      2\u001b[0m \u001b[38;5;28;01mdef\u001b[39;00m \u001b[38;5;21mrgb_to_pixel\u001b[39m(rgb_values):\n\u001b[0;32m      3\u001b[0m     \u001b[38;5;66;03m# Flatten the list of RGB lists into a one-dimensional list of pixel values\u001b[39;00m\n\u001b[1;32m----> 4\u001b[0m     pixels \u001b[38;5;241m=\u001b[39m \u001b[43m[\u001b[49m\u001b[43mvalue\u001b[49m\u001b[43m \u001b[49m\u001b[38;5;28;43;01mfor\u001b[39;49;00m\u001b[43m \u001b[49m\u001b[43mrgb_list\u001b[49m\u001b[43m \u001b[49m\u001b[38;5;129;43;01min\u001b[39;49;00m\u001b[43m \u001b[49m\u001b[43mrgb_values\u001b[49m\u001b[43m \u001b[49m\u001b[38;5;28;43;01mfor\u001b[39;49;00m\u001b[43m \u001b[49m\u001b[43mvalue\u001b[49m\u001b[43m \u001b[49m\u001b[38;5;129;43;01min\u001b[39;49;00m\u001b[43m \u001b[49m\u001b[43mrgb_list\u001b[49m\u001b[43m]\u001b[49m\n\u001b[0;32m      5\u001b[0m     \u001b[38;5;28;01mreturn\u001b[39;00m pixels\n",
      "Cell \u001b[1;32mIn[14], line 4\u001b[0m, in \u001b[0;36m<listcomp>\u001b[1;34m(.0)\u001b[0m\n\u001b[0;32m      2\u001b[0m \u001b[38;5;28;01mdef\u001b[39;00m \u001b[38;5;21mrgb_to_pixel\u001b[39m(rgb_values):\n\u001b[0;32m      3\u001b[0m     \u001b[38;5;66;03m# Flatten the list of RGB lists into a one-dimensional list of pixel values\u001b[39;00m\n\u001b[1;32m----> 4\u001b[0m     pixels \u001b[38;5;241m=\u001b[39m [value \u001b[38;5;28;01mfor\u001b[39;00m rgb_list \u001b[38;5;129;01min\u001b[39;00m rgb_values \u001b[38;5;28;01mfor\u001b[39;00m value \u001b[38;5;129;01min\u001b[39;00m rgb_list]\n\u001b[0;32m      5\u001b[0m     \u001b[38;5;28;01mreturn\u001b[39;00m pixels\n",
      "\u001b[1;31mMemoryError\u001b[0m: "
     ]
    }
   ],
   "source": [
    "# executing cell\n",
    "rgb_values = []\n",
    "dum_list = []\n",
    "\n",
    "\n",
    "for i in range(0, length_png, 3):\n",
    "    for j in range(3):\n",
    "        dum_list.append(new_png_binary[j])\n",
    "    rgb_values.append(dum_list)\n",
    "\n",
    "pixel_data = rgb_to_pixel(rgb_values)\n",
    "\n",
    "image = create_image_from_pixel_data(pixel_data, 400, 400)\n",
    "image.save('output_image.png')"
   ]
  }
 ],
 "metadata": {
  "kernelspec": {
   "display_name": "Python 3",
   "language": "python",
   "name": "python3"
  },
  "language_info": {
   "codemirror_mode": {
    "name": "ipython",
    "version": 3
   },
   "file_extension": ".py",
   "mimetype": "text/x-python",
   "name": "python",
   "nbconvert_exporter": "python",
   "pygments_lexer": "ipython3",
   "version": "3.11.4"
  }
 },
 "nbformat": 4,
 "nbformat_minor": 2
}
